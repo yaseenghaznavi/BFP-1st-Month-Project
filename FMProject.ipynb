{
 "cells": [
  {
   "cell_type": "code",
   "execution_count": null,
   "id": "8fca7b14-66af-4f1f-a779-1e9ab52f012f",
   "metadata": {},
   "outputs": [],
   "source": [
    "import logging\n",
    "import requests\n",
    "from bs4 import BeautifulSoup\n",
    "import pandas as pd\n",
    "from io import StringIO\n",
    "import mysql.connector"
   ]
  },
  {
   "cell_type": "markdown",
   "id": "632b4f75-f662-42d7-bf0f-7283cee5c976",
   "metadata": {},
   "source": [
    "Task 1: Logging function"
   ]
  },
  {
   "cell_type": "code",
   "execution_count": null,
   "id": "968ad488-ebbe-42fe-9100-97703cbb5d01",
   "metadata": {},
   "outputs": [],
   "source": [
    "logging.basicConfig(filename = 'scraper.log', level = logging.INFO, format='%(asctime)s - %(levelname)s - %(message)s')\n",
    "\n",
    "def logMessage(message, level='info'):\n",
    "    if level == 'info':\n",
    "        logging.info(message)\n",
    "    elif level == 'error':\n",
    "        logging.error(message)\n",
    "    else:\n",
    "        logging.debug(message)"
   ]
  },
  {
   "cell_type": "markdown",
   "id": "e2c5b00d-c96c-4223-ac53-43aa510e0756",
   "metadata": {},
   "source": [
    "Task 2: Extraction of data "
   ]
  },
  {
   "cell_type": "code",
   "execution_count": null,
   "id": "fc6504ca-db42-461f-835c-0012fd570028",
   "metadata": {},
   "outputs": [],
   "source": [
    "url = \"https://web.archive.org/web/20230908091635/https://en.wikipedia.org/wiki/List_of_largest_banks\"\n",
    "\n",
    "response = requests.get(url)\n",
    "bSoup = BeautifulSoup(response.content, 'html.parser')\n",
    "\n",
    "tables = bSoup.find_all('table', class_='wikitable')\n",
    "\n",
    "tableHtml = str(tables[0])\n",
    "tableIo = StringIO(tableHtml)\n",
    "df = pd.read_html(tableIo)[0]\n",
    "\n",
    "logMessage('Data is successfully extracted.')\n",
    "print(df.head())"
   ]
  },
  {
   "cell_type": "markdown",
   "id": "0acbca31-96a8-4e6e-9bd3-4c55805423cb",
   "metadata": {},
   "source": [
    "Task 3: Transformation of data"
   ]
  },
  {
   "cell_type": "code",
   "execution_count": null,
   "id": "a4e81bb4-426d-4bb3-a8c6-c75c3f680763",
   "metadata": {},
   "outputs": [],
   "source": [
    "exchangeRates = pd.read_csv('exchange_rate.csv')\n",
    "\n",
    "def transformData(dataframe, exchangeRates):\n",
    "    dataframe['Market cap (US$ billion)'] = dataframe['Market cap (US$ billion)'].astype(str)\n",
    "\n",
    "    dataframe['Market cap (US$ billion)'] = dataframe['Market cap (US$ billion)'].str.replace(',', '')\n",
    "    \n",
    "    dataframe['Market cap (US$ billion)'] = pd.to_numeric(dataframe['Market cap (US$ billion)'], errors='coerce')\n",
    "\n",
    "    logMessage('Data cleaned and converted.')\n",
    "\n",
    "    for index, row in exchangeRates.iterrows():\n",
    "        currency = row['Currency']\n",
    "        rate = row['Rate']\n",
    "        \n",
    "        newColumnName = f'Market cap ({currency} billion)'\n",
    "        dataframe[newColumnName] = round(dataframe['Market cap (US$ billion)'].astype(float) * rate, 2)\n",
    "    \n",
    "    logMessage('Data transformation completed.')\n",
    "    return dataframe\n",
    "\n",
    "transformedDf = transformData(df, exchangeRates)\n",
    "print(transformedDf.head())"
   ]
  },
  {
   "cell_type": "markdown",
   "id": "584f1e25-9307-49a2-a6f0-615bccd51bc8",
   "metadata": {},
   "source": [
    "Task 4: Loading to CSV"
   ]
  },
  {
   "cell_type": "code",
   "execution_count": null,
   "id": "6d892f89-c9de-438c-a504-fe32cb57c22f",
   "metadata": {},
   "outputs": [],
   "source": [
    "transformedDf.to_csv('largest_banks.csv', index=False)\n",
    "\n",
    "logMessage('Data loaded to CSV file.')"
   ]
  },
  {
   "cell_type": "markdown",
   "id": "4da5ac46-5acf-4708-9539-87df40d726a9",
   "metadata": {},
   "source": [
    " Task 5: Loading to Database"
   ]
  },
  {
   "cell_type": "code",
   "execution_count": null,
   "id": "f790b037-5994-4aa8-8baf-75ecadd4ce63",
   "metadata": {},
   "outputs": [],
   "source": [
    "conn = mysql.connector.connect(user='root', passwd='Workbench98', host='localhost', database='bankdata')\n",
    "print(conn)"
   ]
  },
  {
   "cell_type": "code",
   "execution_count": null,
   "id": "4eed6f1d-af9b-4ccc-9137-745c43b41398",
   "metadata": {},
   "outputs": [],
   "source": [
    "cursor = conn.cursor()\n",
    "\n",
    "def createTable(cursor, tableName, dataframe):\n",
    "    columns = dataframe.columns\n",
    "    columnDefs = []\n",
    "    for column in columns:\n",
    "        if dataframe[column].dtype == 'object':\n",
    "            columnDefs.append(f\"`{column}` TEXT\")\n",
    "        elif dataframe[column].dtype == 'int64':\n",
    "            columnDefs.append(f\"`{column}` INT\")\n",
    "        elif dataframe[column].dtype == 'float64':\n",
    "            columnDefs.append(f\"`{column}` FLOAT\")\n",
    "        else:\n",
    "            columnDefs.append(f\"`{column}` TEXT\")  # Default type\n",
    "\n",
    "    columnDefsStr = \", \".join(columnDefs)\n",
    "    createTableSql = f\"CREATE TABLE IF NOT EXISTS `{tableName}` ({columnDefsStr})\"\n",
    "    cursor.execute(createTableSql)\n",
    "\n",
    "def insertData(cursor, tableName, dataframe):\n",
    "    columns = dataframe.columns\n",
    "    columnsStr = \", \".join([f\"`{col}`\" for col in columns])\n",
    "    placeholders = \", \".join([\"%s\"] * len(columns))\n",
    "    insertSql = f\"INSERT INTO `{tableName}` ({columnsStr}) VALUES ({placeholders})\"\n",
    "\n",
    "    for row in dataframe.itertuples(index=False, name=None):\n",
    "        cursor.execute(insertSql, row)\n",
    "\n",
    "tableName = 'largestbanks'\n",
    "\n",
    "createTable(cursor, tableName, transformedDf)\n",
    "\n",
    "insertData(cursor, tableName, transformedDf)\n",
    "\n",
    "conn.commit()\n",
    "\n",
    "logMessage('Data loaded to MySQL database.')"
   ]
  },
  {
   "cell_type": "markdown",
   "id": "f86f2945-59dc-4440-a6c3-721bd3049f71",
   "metadata": {},
   "source": [
    "Task 6: Function to Run queries on Database"
   ]
  },
  {
   "cell_type": "code",
   "execution_count": null,
   "id": "00a30b69-3a8e-4bc5-bc1e-2c8640c8461c",
   "metadata": {},
   "outputs": [],
   "source": [
    "def queryDatabase(query):\n",
    "    try:\n",
    "        cursor = conn.cursor()\n",
    "        cursor.execute(query)\n",
    "        \n",
    "        rows = cursor.fetchall()\n",
    "        columns = [desc[0] for desc in cursor.description]\n",
    "        result = pd.DataFrame(rows, columns=columns)\n",
    "        \n",
    "        logMessage(f'Query executed: {query}')\n",
    "        cursor.close()\n",
    "        return result\n",
    "        \n",
    "    except Exception as e:\n",
    "        logMessage(f'Query failed: {e}', level='error')\n",
    "        return None\n",
    "\n",
    "query = f'SELECT * FROM {tableName} WHERE `Market cap (US$ billion)` > 300'\n",
    "largeBanks = queryDatabase(query)\n",
    "print(largeBanks)\n",
    "\n",
    "conn.close()"
   ]
  },
  {
   "cell_type": "markdown",
   "id": "d0db17a2-7508-48da-93d2-e57710c34047",
   "metadata": {},
   "source": [
    "Task 7: Verify log entries,\n",
    "To verify logs navigate to scrapper.log file"
   ]
  }
 ],
 "metadata": {
  "kernelspec": {
   "display_name": "Python 3 (ipykernel)",
   "language": "python",
   "name": "python3"
  },
  "language_info": {
   "codemirror_mode": {
    "name": "ipython",
    "version": 3
   },
   "file_extension": ".py",
   "mimetype": "text/x-python",
   "name": "python",
   "nbconvert_exporter": "python",
   "pygments_lexer": "ipython3",
   "version": "3.12.4"
  }
 },
 "nbformat": 4,
 "nbformat_minor": 5
}
